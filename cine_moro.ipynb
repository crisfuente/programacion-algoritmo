{
  "nbformat": 4,
  "nbformat_minor": 0,
  "metadata": {
    "colab": {
      "provenance": [],
      "include_colab_link": true
    },
    "kernelspec": {
      "name": "python3",
      "display_name": "Python 3"
    },
    "language_info": {
      "name": "python"
    }
  },
  "cells": [
    {
      "cell_type": "markdown",
      "metadata": {
        "id": "view-in-github",
        "colab_type": "text"
      },
      "source": [
        "<a href=\"https://colab.research.google.com/github/crisfuente/programacion-algoritmo/blob/datos/cine_moro.ipynb\" target=\"_parent\"><img src=\"https://colab.research.google.com/assets/colab-badge.svg\" alt=\"Open In Colab\"/></a>"
      ]
    },
    {
      "cell_type": "markdown",
      "source": [
        "CINE MORO\n"
      ],
      "metadata": {
        "id": "RAqfpKrtPBOE"
      }
    },
    {
      "cell_type": "code",
      "source": [
        "Texto =\"\"\n",
        "total=0\n",
        "total2=0\n",
        "total3=0\n",
        "Tniño=0\n",
        "Tjoven=0\n",
        "Tadulto=0\n",
        "print(\"HOLA\")\n",
        "print(\"Sea bienvenido al cine moro.\")\n",
        "\n",
        "while Texto !=\"salir\":\n",
        "\n",
        " print(\"-----------------------------------\") \n",
        " print(\"Entrada niños $5.500 [Edad>1-13<]\")\n",
        " print()\n",
        " print(\"Entrada joven $7.000 [Edad>14-21<]\")\n",
        " print()\n",
        " print(\"Entada Adulto $9.000 [Edad>Mayor a 22<]\")\n",
        " print(\"-----------------------------------\")\n",
        " print()\n",
        " edad=int(input(\"Por favor digite su edad: \"))\n",
        "\n",
        "\n",
        " if edad >= 1 and edad <= 13:\n",
        "   print(\"Su edad esta en la categoria de >[Niño]<\")  \n",
        "\n",
        "   entrada=int(input(\"Ingrese la cantidad de entradas que desea: \"))\n",
        "   Tniño = entrada + entrada\n",
        "   entrada = entrada * 5500\n",
        "   total += entrada \n",
        "   print(f\"El total de las entradas es: ${entrada}\")\n",
        "   print(\"Si desea continuar escriba [Si]\")\n",
        "   Texto=input(\"Si desea salir escriba en el teclado [Salir]: \")\n",
        "  \n",
        "  \n",
        "\n",
        " elif edad >= 14 and edad <=21:\n",
        "   print(\"Su edad esta en la categoria de >[Joven]<\")\n",
        "  \n",
        "   entrada=int(input(\"Ingrese la cantidad de entradas que desea: \"))\n",
        "   Tjoven = entrada + entrada \n",
        "   entrada = entrada * 7000\n",
        "   total2 += entrada \n",
        "   print(f\"El total de las entradas es: ${entrada}\")\n",
        "   print(\"Si desea continuar escriba [Si]\")\n",
        "   Texto=input(\"Si desea salir escriba en el teclado [Salir]: \")\n",
        "   \n",
        "\n",
        " if edad == 0 or edad < 0:\n",
        "    print(\"ERROR: esta categoria no existe.\")\n",
        " \n",
        "   \n",
        "\n",
        " elif edad >= 22 and edad <= 125:\n",
        "   print(\"Su edad esta en la categoria de >[Adulto]<\")\n",
        "   entrada=int(input(\"Ingrese la cantidad de entradas que desea: \"))\n",
        "   Tadulto = entrada + entrada\n",
        "   entrada = entrada * 9000\n",
        "   total3 += entrada \n",
        "   print(f\"El total de las entradas es: ${entrada}\")\n",
        "   print(\"Si desea continuar escriba [Si] \")\n",
        "   Texto=input(\"Si desea salir escriba en el teclado [Salir]: \")\n",
        "   \n",
        "\n",
        "print()\n",
        "print(\" TOTAL DE VENTAS, FINAL DE LA JORNADA.\")\n",
        "print(\"-----------------------------------\")\n",
        "totalf = total + total2 + total3\n",
        "venta = Tniño + Tjoven + Tadulto\n",
        "por1=Tniño*100/venta\n",
        "por2=Tjoven*100/venta\n",
        "por3=Tadulto*100/venta\n",
        "print(\"Total de entradas vendidas por categoria.\")\n",
        "print()\n",
        "print(f\"Total de entradas vendidas  [niño]: ${total} \")\n",
        "print(f\"Porcentaje de categoria [Niño]: {int(por1)}%\")\n",
        "print()\n",
        "print(f\"Total de entradas vendidas [Joven]: ${total2} \")\n",
        "print(f\"Porcentaje de categoria [Joven]: {int(por2)}%\")\n",
        "print()\n",
        "print(f\"Total de entradas vendidas [Adulto]: ${total3} \")\n",
        "print(f\"Porcentaje de categoria [Adulto]: {int(por3)}% \")\n",
        "print()\n",
        "print(f\"Total de entradas vendidas: ${totalf} \")\n",
        "print(\"-----------------------------------\")"
      ],
      "metadata": {
        "id": "2ZGB8tdFOYwC",
        "colab": {
          "base_uri": "https://localhost:8080/"
        },
        "outputId": "e739b583-bbc0-4e8f-c4e2-fc6a694b3a5e"
      },
      "execution_count": null,
      "outputs": [
        {
          "output_type": "stream",
          "name": "stdout",
          "text": [
            "HOLA\n",
            "Sea bienvenido al cine moro.\n",
            "-----------------------------------\n",
            "Entrada niños $5.500 [Edad>1-13<]\n",
            "\n",
            "Entrada joven $7.000 [Edad>14-21<]\n",
            "\n",
            "Entada Adulto $9.000 [Edad>Mayor a 22<]\n",
            "-----------------------------------\n",
            "\n",
            "Por favor digite su edad. 12\n",
            "Su edad esta en la categoria de >[Niño]<\n",
            "Ingrese la cantidad de entradas que desea: 13\n",
            "El total de las entradas es: $71500\n",
            "Si desea continuar escriba [Si]\n",
            "Si desea salir escriba en el teclado [Salir]: salir\n",
            "\n",
            " TOTAL DE VENTAS, FINAL DE LA JORNADA.\n",
            "-----------------------------------\n",
            "Total de entradas vendidas por categoria.\n",
            "\n",
            "Total de entradas vendidas  [niño]: $71500 \n",
            "Porcentaje de categoria [Niño]: 100%\n",
            "\n",
            "Total de entradas vendidas [Joven]: $0 \n",
            "Porcentaje de categoria [Joven]: 0%\n",
            "\n",
            "Total de entradas vendidas [Adulto]: $0 \n",
            "Porcentaje de categoria [Adulto]: 0% \n",
            "\n",
            "Total de entradas vendidas: $71500 \n",
            "-----------------------------------\n"
          ]
        }
      ]
    }
  ]
}